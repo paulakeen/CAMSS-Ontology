{
 "cells": [
  {
   "cell_type": "code",
   "execution_count": 58,
   "id": "developing-semester",
   "metadata": {},
   "outputs": [
    {
     "name": "stdout",
     "output_type": "stream",
     "text": [
      "(b'', b'')\n"
     ]
    }
   ],
   "source": [
    "from subprocess import PIPE, Popen\n",
    "process = Popen(['java', '-jar', '../rml/rmlmapper-4.9.1.jar', '-m', 'camss-criteria-graph.rml', '-o', '../out/camss-criteria-graph.ttl'], stdout=PIPE, stderr=PIPE)\n",
    "result = process.communicate()\n",
    "print(result)"
   ]
  },
  {
   "cell_type": "code",
   "execution_count": null,
   "id": "decreased-bargain",
   "metadata": {},
   "outputs": [],
   "source": []
  },
  {
   "cell_type": "code",
   "execution_count": null,
   "id": "derived-liabilities",
   "metadata": {},
   "outputs": [],
   "source": []
  }
 ],
 "metadata": {
  "kernelspec": {
   "display_name": "myenv",
   "language": "python",
   "name": "myenv"
  },
  "language_info": {
   "codemirror_mode": {
    "name": "ipython",
    "version": 3
   },
   "file_extension": ".py",
   "mimetype": "text/x-python",
   "name": "python",
   "nbconvert_exporter": "python",
   "pygments_lexer": "ipython3",
   "version": "3.8.5"
  }
 },
 "nbformat": 4,
 "nbformat_minor": 5
}
