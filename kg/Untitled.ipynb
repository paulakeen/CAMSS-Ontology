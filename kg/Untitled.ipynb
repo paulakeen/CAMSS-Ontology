{
 "cells": [
  {
   "cell_type": "code",
   "execution_count": 1,
   "id": "chubby-growth",
   "metadata": {},
   "outputs": [],
   "source": [
    "import re"
   ]
  },
  {
   "cell_type": "code",
   "execution_count": 54,
   "id": "economic-connectivity",
   "metadata": {},
   "outputs": [
    {
     "name": "stdout",
     "output_type": "stream",
     "text": [
      "<re.Match object; span=(0, 12), match='Version3.2.0'>\n",
      "Search successful.\n"
     ]
    }
   ],
   "source": [
    "pattern = r\"[a-zA-Z\\s]*3.[0-9].[0-9]\"\n",
    "test_string = 'Version3.2.0'\n",
    "result = re.match(pattern, test_string)\n",
    "\n",
    "print(result)\n",
    "\n",
    "if result:\n",
    "  print(\"Search successful.\")\n",
    "else:\n",
    "  print(\"Search unsuccessful.\")\t"
   ]
  },
  {
   "cell_type": "code",
   "execution_count": null,
   "id": "cosmetic-embassy",
   "metadata": {},
   "outputs": [],
   "source": []
  },
  {
   "cell_type": "code",
   "execution_count": 98,
   "id": "environmental-repeat",
   "metadata": {},
   "outputs": [
    {
     "name": "stdout",
     "output_type": "stream",
     "text": [
      "None\n",
      "unsuccessful\n"
     ]
    }
   ],
   "source": [
    "import re\n",
    "v3xy = \"v 10.0\"\n",
    "#pattern = r\"[a-zA-Z]*[:]*[\\s]*3.[0-9].[0-9]\"\n",
    "pattern = r\"[a-zA-Z]*[:]*[\\s]*[0-9].[0-9][.0-9]*\"\n",
    "result = re.match(pattern, v3xy)\n",
    "print(result)\n",
    "if result:\n",
    "    print(\"successful\")\n",
    "else:\n",
    "    print(\"unsuccessful\")"
   ]
  },
  {
   "cell_type": "code",
   "execution_count": 155,
   "id": "changed-bloom",
   "metadata": {},
   "outputs": [
    {
     "name": "stdout",
     "output_type": "stream",
     "text": [
      "<re.Match object; span=(0, 5), match='Tool '>\n"
     ]
    }
   ],
   "source": [
    "pattern = re.compile(r\"[a-zA-Z]*[:]*[\\s]*[\\d.]*\")\n",
    "m = pattern.match('Tool version: 3.0.0')\n",
    "print(m)"
   ]
  },
  {
   "cell_type": "code",
   "execution_count": null,
   "id": "upper-chick",
   "metadata": {},
   "outputs": [],
   "source": []
  },
  {
   "cell_type": "code",
   "execution_count": null,
   "id": "joined-effectiveness",
   "metadata": {},
   "outputs": [],
   "source": []
  }
 ],
 "metadata": {
  "kernelspec": {
   "display_name": "myenv",
   "language": "python",
   "name": "myenv"
  },
  "language_info": {
   "codemirror_mode": {
    "name": "ipython",
    "version": 3
   },
   "file_extension": ".py",
   "mimetype": "text/x-python",
   "name": "python",
   "nbconvert_exporter": "python",
   "pygments_lexer": "ipython3",
   "version": "3.8.5"
  }
 },
 "nbformat": 4,
 "nbformat_minor": 5
}
